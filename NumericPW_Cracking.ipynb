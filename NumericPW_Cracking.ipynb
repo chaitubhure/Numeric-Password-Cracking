{
  "nbformat": 4,
  "nbformat_minor": 0,
  "metadata": {
    "colab": {
      "name": "NumericPW_Cracking.ipynb",
      "provenance": [],
      "include_colab_link": true
    },
    "kernelspec": {
      "name": "python3",
      "display_name": "Python 3"
    }
  },
  "cells": [
    {
      "cell_type": "markdown",
      "metadata": {
        "id": "view-in-github",
        "colab_type": "text"
      },
      "source": [
        "<a href=\"https://colab.research.google.com/github/chaitubhure/Numeric-Password-Cracking/blob/master/NumericPW_Cracking.ipynb\" target=\"_parent\"><img src=\"https://colab.research.google.com/assets/colab-badge.svg\" alt=\"Open In Colab\"/></a>"
      ]
    },
    {
      "cell_type": "code",
      "metadata": {
        "id": "Uc18fIX5V3mm",
        "colab_type": "code",
        "colab": {}
      },
      "source": [
        "import random\n",
        "import numpy as np\n",
        "import matplotlib.pyplot as plt\n",
        "import time"
      ],
      "execution_count": 0,
      "outputs": []
    },
    {
      "cell_type": "code",
      "metadata": {
        "id": "wrORvtFUYu8G",
        "colab_type": "code",
        "colab": {}
      },
      "source": [
        "passcode_length = 500\n",
        "passcode_lower_bound = 0\n",
        "passcode_upper_bound = 9\n",
        "\n",
        "population_size = 10\n",
        "num_parents = 5\n",
        "elite_size = 2"
      ],
      "execution_count": 0,
      "outputs": []
    },
    {
      "cell_type": "code",
      "metadata": {
        "id": "51vAVWT5Ywgl",
        "colab_type": "code",
        "outputId": "6b1c07be-7fff-4c95-e7b9-3815f116e48f",
        "colab": {
          "base_uri": "https://localhost:8080/",
          "height": 54
        }
      },
      "source": [
        "secret_passcode = [1,6,0,5,2,0,1,5,9,2]\n",
        "for x in range(passcode_length):\n",
        "    secret_passcode.append(int(round(random.uniform(passcode_lower_bound,passcode_upper_bound),0)))\n",
        "\n",
        "print(secret_passcode)"
      ],
      "execution_count": 0,
      "outputs": [
        {
          "output_type": "stream",
          "text": [
            "[1, 6, 0, 5, 2, 0, 1, 5, 9, 2, 9, 8, 6, 8, 1, 6, 8, 7, 4, 5, 2, 0, 7, 8, 9, 7, 9, 3, 1, 1, 1, 6, 4, 6, 6, 4, 1, 1, 2, 9, 8, 6, 0, 5, 6, 8, 1, 4, 5, 4, 1, 2, 7, 7, 7, 8, 5, 2, 2, 2, 9, 5, 8, 4, 4, 5, 5, 2, 0, 8, 8, 8, 0, 0, 6, 6, 2, 5, 2, 2, 7, 0, 6, 3, 2, 9, 7, 8, 7, 6, 2, 5, 8, 7, 5, 6, 5, 7, 5, 6, 7, 4, 7, 7, 0, 2, 3, 0, 0, 8, 3, 3, 7, 1, 2, 8, 3, 2, 9, 4, 4, 7, 6, 5, 0, 6, 3, 2, 6, 8, 3, 2, 3, 5, 5, 8, 1, 9, 1, 6, 3, 5, 9, 3, 1, 3, 4, 4, 3, 1, 3, 2, 8, 5, 0, 5, 0, 3, 0, 8, 9, 0, 8, 0, 4, 7, 7, 8, 1, 1, 2, 7, 8, 9, 1, 1, 4, 0, 6, 8, 4, 8, 6, 5, 8, 8, 3, 0, 6, 6, 5, 0, 7, 5, 4, 3, 6, 6, 5, 3, 6, 1, 3, 1, 7, 6, 7, 4, 3, 3, 5, 6, 1, 0, 3, 6, 7, 1, 4, 7, 3, 1, 2, 2, 0, 5, 9, 3, 1, 1, 1, 3, 2, 7, 2, 1, 7, 2, 0, 2, 5, 5, 2, 5, 4, 8, 0, 4, 1, 7, 0, 1, 4, 1, 2, 6, 5, 0, 3, 7, 6, 3, 0, 4, 2, 3, 5, 3, 8, 7, 9, 7, 8, 3, 3, 6, 6, 5, 8, 8, 3, 9, 6, 9, 8, 5, 0, 8, 2, 3, 4, 9, 8, 6, 5, 6, 3, 6, 5, 4, 2, 5, 6, 2, 6, 0, 6, 8, 3, 8, 6, 2, 4, 3, 1, 6, 5, 3, 5, 6, 8, 7, 2, 8, 4, 7, 3, 5, 7, 5, 1, 6, 6, 3, 5, 8, 5, 2, 5, 2, 6, 2, 2, 8, 7, 2, 7, 2, 9, 2, 5, 3, 6, 2, 8, 4, 1, 8, 6, 5, 7, 0, 5, 1, 6, 1, 1, 5, 3, 4, 6, 4, 9, 3, 7, 5, 4, 4, 3, 1, 7, 2, 9, 1, 9, 3, 8, 4, 4, 6, 1, 5, 1, 6, 7, 2, 9, 6, 4, 1, 7, 4, 3, 0, 5, 6, 8, 4, 8, 4, 0, 8, 1, 7, 8, 8, 4, 1, 1, 2, 6, 7, 9, 4, 4, 8, 5, 2, 8, 8, 1, 7, 7, 5, 8, 0, 6, 0, 9, 1, 9, 0, 4, 1, 3, 8, 6, 3, 3, 3, 1, 2, 8, 7, 4, 7, 5, 2, 4, 6, 1, 8, 3, 3, 2, 6, 1, 2, 4, 7, 3, 1, 3, 3, 7, 4, 2, 4, 3, 3, 1, 3, 0, 5, 7, 4, 5, 3, 2, 9, 4, 8, 4, 3, 6, 8, 4, 4, 7, 0, 4, 4, 1, 1, 1, 7, 6, 8, 5, 5]\n"
          ],
          "name": "stdout"
        }
      ]
    },
    {
      "cell_type": "code",
      "metadata": {
        "id": "EaII3aZOY3uF",
        "colab_type": "code",
        "colab": {}
      },
      "source": [
        "population = []\n",
        "for i in range(population_size):\n",
        "    chromosome = []\n",
        "    for x in range(passcode_length):\n",
        "        chromosome.append(int(round(random.uniform(passcode_lower_bound,passcode_upper_bound),0)))\n",
        "    population.append(chromosome)"
      ],
      "execution_count": 0,
      "outputs": []
    },
    {
      "cell_type": "code",
      "metadata": {
        "id": "mpctBoQKY65N",
        "colab_type": "code",
        "colab": {}
      },
      "source": [
        "def fitness(population):\n",
        "    fitness_scores = []\n",
        "    for chromosome in population:\n",
        "        matches = 0\n",
        "        for index in range(passcode_length):\n",
        "            if secret_passcode[index] == chromosome[index]:\n",
        "                matches += 1\n",
        "        result = [chromosome,matches]\n",
        "        fitness_scores.append(result)\n",
        "    return fitness_scores"
      ],
      "execution_count": 0,
      "outputs": []
    },
    {
      "cell_type": "code",
      "metadata": {
        "id": "_XKEoH1YY9wk",
        "colab_type": "code",
        "colab": {}
      },
      "source": [
        "def select_parents(fitness_scores):\n",
        "    parents_list = []\n",
        "    for chromosome in sorted(fitness_scores, key=lambda x: x[1], reverse = True)[:num_parents]:\n",
        "        parents_list.append(chromosome[0])\n",
        "    return(parents_list)"
      ],
      "execution_count": 0,
      "outputs": []
    },
    {
      "cell_type": "code",
      "metadata": {
        "id": "xhaFVxAMZBds",
        "colab_type": "code",
        "colab": {}
      },
      "source": [
        "# breeding logic\n",
        "def breed(parent1,parent2):\n",
        "    child = []\n",
        "\n",
        "    parent1 = parents[0]\n",
        "    parent2 = parents[1]\n",
        "\n",
        "    geneA = int(random.random() * passcode_length)\n",
        "    geneB = int(random.random() * passcode_length)\n",
        "\n",
        "    startGene = min(geneA, geneB)\n",
        "    endGene = max(geneA, geneB)\n",
        "\n",
        "    for i in range(0,passcode_length):\n",
        "        if (i < startGene) or (i > endGene):\n",
        "            child.append(parent1[i])\n",
        "        else:\n",
        "            child.append(parent2[i])\n",
        "    return child\n",
        "\n",
        "# breeding and elitism\n",
        "def create_children(parents_pool):\n",
        "    children = []\n",
        "    num_new_children = len(population) - elite_size\n",
        "\n",
        "    for i in range(0,elite_size):\n",
        "        children.append(parents_pool[i])\n",
        "\n",
        "    for i in range(0,num_new_children):\n",
        "        parent1 = parents_pool[int(random.random() * len(parents_pool))]\n",
        "        parent2 = parents_pool[int(random.random() * len(parents_pool))]\n",
        "        children.append(breed(parent1,parent2))\n",
        "    return children"
      ],
      "execution_count": 0,
      "outputs": []
    },
    {
      "cell_type": "code",
      "metadata": {
        "id": "J3ELRVoOZGUr",
        "colab_type": "code",
        "colab": {}
      },
      "source": [
        "def mutation(children_set):\n",
        "    for i in range(len(children_set)):\n",
        "        if random.random() > 0.1:\n",
        "            continue\n",
        "        else:\n",
        "            mutated_position = int(random.random() * passcode_length)\n",
        "            mutation = int(round(random.uniform(passcode_lower_bound,passcode_upper_bound+1),0))\n",
        "            children_set[i][mutated_position] = mutation\n",
        "    return children_set"
      ],
      "execution_count": 0,
      "outputs": []
    },
    {
      "cell_type": "code",
      "metadata": {
        "id": "FBGErVZjZJpE",
        "colab_type": "code",
        "outputId": "86572146-4683-42f7-8333-22653b8733c0",
        "colab": {
          "base_uri": "https://localhost:8080/",
          "height": 88
        }
      },
      "source": [
        "success = []\n",
        "generations = 0\n",
        "t0 = time.time()\n",
        "while True:\n",
        "\n",
        "    fitness_scores = fitness(population)\n",
        "    success.append(max([i[1] for i in fitness_scores]))\n",
        "    if max([i[1] for i in fitness_scores]) == passcode_length:\n",
        "        print(\"Cracked in {} generations, and {} seconds! \\nSecret passcode = {} \\nDiscovered passcode = {}\".format(generations,time.time() - t0,secret_passcode,[i[0] for i in fitness_scores if i[1] == passcode_length][0]))\n",
        "        break\n",
        "    parents = select_parents(fitness_scores)\n",
        "    children = create_children(parents)\n",
        "    population = mutation(children)\n",
        "    generations += 1"
      ],
      "execution_count": 0,
      "outputs": [
        {
          "output_type": "stream",
          "text": [
            "Cracked in 35440 generations, and 50.865713357925415 seconds! \n",
            "Secret passcode = [1, 6, 0, 5, 2, 0, 1, 5, 9, 2, 9, 8, 6, 8, 1, 6, 8, 7, 4, 5, 2, 0, 7, 8, 9, 7, 9, 3, 1, 1, 1, 6, 4, 6, 6, 4, 1, 1, 2, 9, 8, 6, 0, 5, 6, 8, 1, 4, 5, 4, 1, 2, 7, 7, 7, 8, 5, 2, 2, 2, 9, 5, 8, 4, 4, 5, 5, 2, 0, 8, 8, 8, 0, 0, 6, 6, 2, 5, 2, 2, 7, 0, 6, 3, 2, 9, 7, 8, 7, 6, 2, 5, 8, 7, 5, 6, 5, 7, 5, 6, 7, 4, 7, 7, 0, 2, 3, 0, 0, 8, 3, 3, 7, 1, 2, 8, 3, 2, 9, 4, 4, 7, 6, 5, 0, 6, 3, 2, 6, 8, 3, 2, 3, 5, 5, 8, 1, 9, 1, 6, 3, 5, 9, 3, 1, 3, 4, 4, 3, 1, 3, 2, 8, 5, 0, 5, 0, 3, 0, 8, 9, 0, 8, 0, 4, 7, 7, 8, 1, 1, 2, 7, 8, 9, 1, 1, 4, 0, 6, 8, 4, 8, 6, 5, 8, 8, 3, 0, 6, 6, 5, 0, 7, 5, 4, 3, 6, 6, 5, 3, 6, 1, 3, 1, 7, 6, 7, 4, 3, 3, 5, 6, 1, 0, 3, 6, 7, 1, 4, 7, 3, 1, 2, 2, 0, 5, 9, 3, 1, 1, 1, 3, 2, 7, 2, 1, 7, 2, 0, 2, 5, 5, 2, 5, 4, 8, 0, 4, 1, 7, 0, 1, 4, 1, 2, 6, 5, 0, 3, 7, 6, 3, 0, 4, 2, 3, 5, 3, 8, 7, 9, 7, 8, 3, 3, 6, 6, 5, 8, 8, 3, 9, 6, 9, 8, 5, 0, 8, 2, 3, 4, 9, 8, 6, 5, 6, 3, 6, 5, 4, 2, 5, 6, 2, 6, 0, 6, 8, 3, 8, 6, 2, 4, 3, 1, 6, 5, 3, 5, 6, 8, 7, 2, 8, 4, 7, 3, 5, 7, 5, 1, 6, 6, 3, 5, 8, 5, 2, 5, 2, 6, 2, 2, 8, 7, 2, 7, 2, 9, 2, 5, 3, 6, 2, 8, 4, 1, 8, 6, 5, 7, 0, 5, 1, 6, 1, 1, 5, 3, 4, 6, 4, 9, 3, 7, 5, 4, 4, 3, 1, 7, 2, 9, 1, 9, 3, 8, 4, 4, 6, 1, 5, 1, 6, 7, 2, 9, 6, 4, 1, 7, 4, 3, 0, 5, 6, 8, 4, 8, 4, 0, 8, 1, 7, 8, 8, 4, 1, 1, 2, 6, 7, 9, 4, 4, 8, 5, 2, 8, 8, 1, 7, 7, 5, 8, 0, 6, 0, 9, 1, 9, 0, 4, 1, 3, 8, 6, 3, 3, 3, 1, 2, 8, 7, 4, 7, 5, 2, 4, 6, 1, 8, 3, 3, 2, 6, 1, 2, 4, 7, 3, 1, 3, 3, 7, 4, 2, 4, 3, 3, 1, 3, 0, 5, 7, 4, 5, 3, 2, 9, 4, 8, 4, 3, 6, 8, 4, 4, 7, 0, 4, 4, 1, 1, 1, 7, 6, 8, 5, 5] \n",
            "Discovered passcode = [1, 6, 0, 5, 2, 0, 1, 5, 9, 2, 9, 8, 6, 8, 1, 6, 8, 7, 4, 5, 2, 0, 7, 8, 9, 7, 9, 3, 1, 1, 1, 6, 4, 6, 6, 4, 1, 1, 2, 9, 8, 6, 0, 5, 6, 8, 1, 4, 5, 4, 1, 2, 7, 7, 7, 8, 5, 2, 2, 2, 9, 5, 8, 4, 4, 5, 5, 2, 0, 8, 8, 8, 0, 0, 6, 6, 2, 5, 2, 2, 7, 0, 6, 3, 2, 9, 7, 8, 7, 6, 2, 5, 8, 7, 5, 6, 5, 7, 5, 6, 7, 4, 7, 7, 0, 2, 3, 0, 0, 8, 3, 3, 7, 1, 2, 8, 3, 2, 9, 4, 4, 7, 6, 5, 0, 6, 3, 2, 6, 8, 3, 2, 3, 5, 5, 8, 1, 9, 1, 6, 3, 5, 9, 3, 1, 3, 4, 4, 3, 1, 3, 2, 8, 5, 0, 5, 0, 3, 0, 8, 9, 0, 8, 0, 4, 7, 7, 8, 1, 1, 2, 7, 8, 9, 1, 1, 4, 0, 6, 8, 4, 8, 6, 5, 8, 8, 3, 0, 6, 6, 5, 0, 7, 5, 4, 3, 6, 6, 5, 3, 6, 1, 3, 1, 7, 6, 7, 4, 3, 3, 5, 6, 1, 0, 3, 6, 7, 1, 4, 7, 3, 1, 2, 2, 0, 5, 9, 3, 1, 1, 1, 3, 2, 7, 2, 1, 7, 2, 0, 2, 5, 5, 2, 5, 4, 8, 0, 4, 1, 7, 0, 1, 4, 1, 2, 6, 5, 0, 3, 7, 6, 3, 0, 4, 2, 3, 5, 3, 8, 7, 9, 7, 8, 3, 3, 6, 6, 5, 8, 8, 3, 9, 6, 9, 8, 5, 0, 8, 2, 3, 4, 9, 8, 6, 5, 6, 3, 6, 5, 4, 2, 5, 6, 2, 6, 0, 6, 8, 3, 8, 6, 2, 4, 3, 1, 6, 5, 3, 5, 6, 8, 7, 2, 8, 4, 7, 3, 5, 7, 5, 1, 6, 6, 3, 5, 8, 5, 2, 5, 2, 6, 2, 2, 8, 7, 2, 7, 2, 9, 2, 5, 3, 6, 2, 8, 4, 1, 8, 6, 5, 7, 0, 5, 1, 6, 1, 1, 5, 3, 4, 6, 4, 9, 3, 7, 5, 4, 4, 3, 1, 7, 2, 9, 1, 9, 3, 8, 4, 4, 6, 1, 5, 1, 6, 7, 2, 9, 6, 4, 1, 7, 4, 3, 0, 5, 6, 8, 4, 8, 4, 0, 8, 1, 7, 8, 8, 4, 1, 1, 2, 6, 7, 9, 4, 4, 8, 5, 2, 8, 8, 1, 7, 7, 5, 8, 0, 6, 0, 9, 1, 9, 0, 4, 1, 3, 8, 6, 3, 3, 3, 1, 2, 8, 7, 4, 7, 5, 2, 4, 6, 1, 8, 3, 3, 2, 6, 1, 2, 4, 7, 3, 1, 3, 3, 7, 4, 2, 4, 3, 3, 1, 3, 0, 5, 7, 4, 5, 3, 2, 9, 4, 8, 4, 3, 6, 8, 4, 4, 7, 0]\n"
          ],
          "name": "stdout"
        }
      ]
    },
    {
      "cell_type": "code",
      "metadata": {
        "id": "S3zMqV3KZwWq",
        "colab_type": "code",
        "outputId": "9b73cbb9-2582-4de7-dcec-2093e43fbb73",
        "colab": {
          "base_uri": "https://localhost:8080/",
          "height": 379
        }
      },
      "source": [
        "fig = plt.figure()\n",
        "plt.plot(list(range(generations+1)), success)\n",
        "fig.suptitle('Fitness Score by Generation', fontsize=14, fontweight='bold')\n",
        "ax = fig.add_subplot(111)\n",
        "ax.set_xlabel('Generation')\n",
        "ax.set_ylabel('Fitness Score')\n",
        "plt.show()"
      ],
      "execution_count": 0,
      "outputs": [
        {
          "output_type": "stream",
          "text": [
            "/usr/local/lib/python3.6/dist-packages/matplotlib/figure.py:98: MatplotlibDeprecationWarning: \n",
            "Adding an axes using the same arguments as a previous axes currently reuses the earlier instance.  In a future version, a new instance will always be created and returned.  Meanwhile, this warning can be suppressed, and the future behavior ensured, by passing a unique label to each axes instance.\n",
            "  \"Adding an axes using the same arguments as a previous axes \"\n"
          ],
          "name": "stderr"
        },
        {
          "output_type": "display_data",
          "data": {
            "image/png": "[encoded data removed]",
            "text/plain": [
              "<Figure size 432x288 with 1 Axes>"
            ]
          },
          "metadata": {
            "tags": []
          }
        }
      ]
    },
    {
      "cell_type": "code",
      "metadata": {
        "id": "WKs6amvaZ6DC",
        "colab_type": "code",
        "colab": {}
      },
      "source": [
        ""
      ],
      "execution_count": 0,
      "outputs": []
    }
  ]
}